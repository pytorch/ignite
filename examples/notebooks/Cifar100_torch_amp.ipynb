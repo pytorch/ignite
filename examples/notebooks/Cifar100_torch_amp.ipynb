{
 "cells": [
  {
   "cell_type": "markdown",
   "metadata": {},
   "source": [
    "# Benchmark native `torch.cuda.amp` on Cifar100\n",
    "\n",
    "In this notebook we will benchmark native PyTorch mixed precision module [`torch.cuda.amp`](https://pytorch.org/docs/master/amp.html). \n",
    "\n",
    "We will train Wide-ResNet model on Cifar100 dataset using Turing enabled GPU and compare training time with fp32 training."
   ]
  },
  {
   "cell_type": "markdown",
   "metadata": {},
   "source": [
    "## PyTorch AMP\n",
    "\n",
    "Recently added [`torch.cuda.amp`](https://pytorch.org/docs/master/notes/amp_examples.html#working-with-multiple-models-losses-and-optimizers) module to perform automatic mixed precision training instead of using Nvidia/Apex package is available in PyTorch >=1.6.0. At the moment of writing, we need to install nightly release to benefit."
   ]
  },
  {
   "cell_type": "code",
   "execution_count": 2,
   "metadata": {},
   "outputs": [],
   "source": [
    "# !pip install --pre --upgrade torch torchvision -f https://download.pytorch.org/whl/nightly/cu101/torch_nightly.html\n",
    "# !pip install --pre --upgrade pytorch-ignite \n",
    "# !pip install --upgrade pynvml fire"
   ]
  },
  {
   "cell_type": "code",
   "execution_count": 1,
   "metadata": {},
   "outputs": [
    {
     "data": {
      "text/plain": [
       "('1.6.0.dev20200411+cu101', '0.4.0.dev20200411')"
      ]
     },
     "execution_count": 1,
     "metadata": {},
     "output_type": "execute_result"
    }
   ],
   "source": [
    "import torch\n",
    "import ignite\n",
    "torch.__version__, ignite.__version__"
   ]
  },
  {
   "cell_type": "markdown",
   "metadata": {},
   "source": [
    "The scripts we will execute are located in `ignite/examples/contrib/cifar100_amp_benchmark` of github repository. Let's clone the repository and setup PYTHONPATH to execute benchmark scripts:"
   ]
  },
  {
   "cell_type": "code",
   "execution_count": 8,
   "metadata": {},
   "outputs": [],
   "source": [
    "# !git clone https://github.com/pytorch/ignite.git /tmp/ignite\n",
    "scriptspath=\"/tmp/ignite/examples/contrib/cifar100_amp_benchmark/\"\n",
    "setup=\"cd {} && export PYTHONPATH=$PWD:$PYTHONPATH\".format(scriptspath)"
   ]
  },
  {
   "cell_type": "code",
   "execution_count": 16,
   "metadata": {},
   "outputs": [
    {
     "name": "stdout",
     "output_type": "stream",
     "text": [
      "Files already downloaded and verified\n",
      "Epoch [1/20]: [195/195] 100%|████████████████████, batch loss=4.64 [00:23<00:00]\n",
      "Epoch [2/20]: [195/195] 100%|████████████████████, batch loss=4.34 [00:23<00:00]\n",
      "Epoch [3/20]: [195/195] 100%|████████████████████, batch loss=4.13 [00:23<00:00]\n",
      "Epoch [4/20]: [195/195] 100%|████████████████████, batch loss=4.08 [00:23<00:00]\n",
      "Epoch [5/20]: [195/195] 100%|████████████████████, batch loss=3.88 [00:23<00:00]\n",
      "Epoch [6/20]: [195/195] 100%|████████████████████, batch loss=3.89 [00:23<00:00]\n",
      "Epoch [7/20]: [195/195] 100%|████████████████████, batch loss=3.74 [00:23<00:00]\n",
      "Epoch [8/20]: [195/195] 100%|████████████████████, batch loss=3.65 [00:23<00:00]\n",
      "Epoch [9/20]: [195/195] 100%|████████████████████, batch loss=3.69 [00:23<00:00]\n",
      "Epoch [10/20]: [195/195] 100%|███████████████████, batch loss=3.72 [00:23<00:00]\n",
      "Epoch [11/20]: [195/195] 100%|███████████████████, batch loss=3.54 [00:23<00:00]\n",
      "Epoch [12/20]: [195/195] 100%|███████████████████, batch loss=3.48 [00:23<00:00]\n",
      "Epoch [13/20]: [195/195] 100%|███████████████████, batch loss=3.54 [00:23<00:00]\n",
      "Epoch [14/20]: [195/195] 100%|████████████████████, batch loss=3.3 [00:23<00:00]\n",
      "Epoch [15/20]: [195/195] 100%|███████████████████, batch loss=3.21 [00:23<00:00]\n",
      "Epoch [16/20]: [195/195] 100%|███████████████████, batch loss=3.22 [00:23<00:00]\n",
      "Epoch [17/20]: [195/195] 100%|███████████████████, batch loss=3.17 [00:23<00:00]\n",
      "Epoch [18/20]: [195/195] 100%|███████████████████, batch loss=3.15 [00:23<00:00]\n",
      "Epoch [19/20]: [195/195] 100%|███████████████████, batch loss=3.28 [00:23<00:00]\n",
      "Epoch [20/20]: [195/195] 100%|███████████████████, batch loss=2.98 [00:23<00:00]\n",
      "- Mean elapsed time for 1 epoch: 24.53930494785309\n",
      "- Metrics:\n",
      "\tTrain Accuracy: 0.24\n",
      "\tTrain Loss: 3.11\n",
      "\tTest Accuracy: 0.24\n",
      "\tTest Loss: 3.12\n",
      "CPU times: user 13.3 s, sys: 2.76 s, total: 16.1 s\n",
      "Wall time: 8min 21s\n"
     ]
    }
   ],
   "source": [
    "%%time\n",
    "!{setup} && python benchmark_fp32.py /tmp/cifar100/ --batch_size=256 --max_epochs=20"
   ]
  },
  {
   "cell_type": "code",
   "execution_count": 17,
   "metadata": {},
   "outputs": [
    {
     "name": "stdout",
     "output_type": "stream",
     "text": [
      "Files already downloaded and verified\n",
      "Epoch [1/20]: [195/195] 100%|████████████████████, batch loss=4.57 [00:23<00:00]\n",
      "Epoch [2/20]: [195/195] 100%|████████████████████, batch loss=4.39 [00:23<00:00]\n",
      "Epoch [3/20]: [195/195] 100%|████████████████████, batch loss=3.96 [00:23<00:00]\n",
      "Epoch [4/20]: [195/195] 100%|████████████████████, batch loss=4.04 [00:23<00:00]\n",
      "Epoch [5/20]: [195/195] 100%|████████████████████, batch loss=3.85 [00:23<00:00]\n",
      "Epoch [6/20]: [195/195] 100%|████████████████████, batch loss=3.82 [00:23<00:00]\n",
      "Epoch [7/20]: [195/195] 100%|█████████████████████, batch loss=3.8 [00:23<00:00]\n",
      "Epoch [8/20]: [195/195] 100%|████████████████████, batch loss=3.68 [00:23<00:00]\n",
      "Epoch [9/20]: [195/195] 100%|█████████████████████, batch loss=3.8 [00:23<00:00]\n",
      "Epoch [10/20]: [195/195] 100%|███████████████████, batch loss=3.57 [00:23<00:00]\n",
      "Epoch [11/20]: [195/195] 100%|███████████████████, batch loss=3.37 [00:23<00:00]\n",
      "Epoch [12/20]: [195/195] 100%|███████████████████, batch loss=3.52 [00:23<00:00]\n",
      "Epoch [13/20]: [195/195] 100%|███████████████████, batch loss=3.58 [00:23<00:00]\n",
      "Epoch [14/20]: [195/195] 100%|███████████████████, batch loss=3.29 [00:23<00:00]\n",
      "Epoch [15/20]: [195/195] 100%|███████████████████, batch loss=3.35 [00:23<00:00]\n",
      "Epoch [16/20]: [195/195] 100%|███████████████████, batch loss=3.31 [00:23<00:00]\n",
      "Epoch [17/20]: [195/195] 100%|███████████████████, batch loss=3.26 [00:23<00:00]\n",
      "Epoch [18/20]: [195/195] 100%|███████████████████, batch loss=3.31 [00:23<00:00]\n",
      "Epoch [19/20]: [195/195] 100%|███████████████████, batch loss=3.37 [00:23<00:00]\n",
      "Epoch [20/20]: [195/195] 100%|███████████████████, batch loss=3.02 [00:23<00:00]\n",
      "- Mean elapsed time for 1 epoch: 24.43058839859441\n",
      "- Metrics:\n",
      "\tTrain Accuracy: 0.24\n",
      "\tTrain Loss: 3.07\n",
      "\tTest Accuracy: 0.24\n",
      "\tTest Loss: 3.13\n",
      "CPU times: user 13.3 s, sys: 2.78 s, total: 16.1 s\n",
      "Wall time: 8min 19s\n"
     ]
    }
   ],
   "source": [
    "%%time\n",
    "!{setup} && python benchmark_torch_cuda_amp.py /tmp/cifar100/ --batch_size=256 --max_epochs=20"
   ]
  },
  {
   "cell_type": "code",
   "execution_count": null,
   "metadata": {},
   "outputs": [],
   "source": []
  },
  {
   "cell_type": "code",
   "execution_count": null,
   "metadata": {},
   "outputs": [],
   "source": []
  }
 ],
 "metadata": {
  "kernelspec": {
   "display_name": "Python 3",
   "language": "python",
   "name": "python3"
  },
  "language_info": {
   "codemirror_mode": {
    "name": "ipython",
    "version": 3
   },
   "file_extension": ".py",
   "mimetype": "text/x-python",
   "name": "python",
   "nbconvert_exporter": "python",
   "pygments_lexer": "ipython3",
   "version": "3.7.6"
  }
 },
 "nbformat": 4,
 "nbformat_minor": 4
}
