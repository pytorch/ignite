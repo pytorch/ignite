{
 "cells": [
  {
   "cell_type": "code",
   "execution_count": 1,
   "metadata": {},
   "outputs": [],
   "source": [
    "import torch\n",
    "from ignite.metrics import SSIM3D\n",
    "from skimage.metrics import structural_similarity as ssim"
   ]
  },
  {
   "cell_type": "code",
   "execution_count": 2,
   "metadata": {},
   "outputs": [],
   "source": [
    "x = torch.rand(1, 2, 16, 100, 100)\n",
    "y = torch.rand(1, 2, 16, 100, 100)"
   ]
  },
  {
   "cell_type": "code",
   "execution_count": 25,
   "metadata": {},
   "outputs": [
    {
     "data": {
      "text/plain": [
       "0.0029098883"
      ]
     },
     "execution_count": 25,
     "metadata": {},
     "output_type": "execute_result"
    }
   ],
   "source": [
    "ssim(x.squeeze().detach().numpy(),\n",
    "     y.squeeze().detach().numpy(),\n",
    "     data_range=1.,\n",
    "     gaussian_weights=True,\n",
    "     sigma=1.5,\n",
    "     channel_axis=0)"
   ]
  },
  {
   "cell_type": "code",
   "execution_count": null,
   "metadata": {},
   "outputs": [],
   "source": [
    "ssim_ign = SSIM3D(data_range=1.,\n",
    "                  sigma=1.5,\n",
    "                  kernel_size=11,\n",
    "                  gaussian=True)"
   ]
  },
  {
   "cell_type": "code",
   "execution_count": 33,
   "metadata": {},
   "outputs": [
    {
     "name": "stdout",
     "output_type": "stream",
     "text": [
      "ignite:  0.0021512741141978997\n"
     ]
    }
   ],
   "source": [
    "ssim_ign.update((x, y))\n",
    "print(\"ignite: \", ssim_ign.compute())\n",
    "ssim_ign.reset()"
   ]
  },
  {
   "cell_type": "code",
   "execution_count": 29,
   "metadata": {},
   "outputs": [
    {
     "name": "stdout",
     "output_type": "stream",
     "text": [
      "ignite:  1.0\n"
     ]
    }
   ],
   "source": [
    "ssim_ign.update((x, x))\n",
    "print(\"ignite: \", ssim_ign.compute())\n",
    "ssim_ign.reset()"
   ]
  },
  {
   "cell_type": "code",
   "execution_count": null,
   "metadata": {},
   "outputs": [],
   "source": []
  }
 ],
 "metadata": {
  "kernelspec": {
   "display_name": "base",
   "language": "python",
   "name": "python3"
  },
  "language_info": {
   "codemirror_mode": {
    "name": "ipython",
    "version": 3
   },
   "file_extension": ".py",
   "mimetype": "text/x-python",
   "name": "python",
   "nbconvert_exporter": "python",
   "pygments_lexer": "ipython3",
   "version": "3.12.7"
  }
 },
 "nbformat": 4,
 "nbformat_minor": 2
}
